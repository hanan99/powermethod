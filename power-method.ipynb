{
 "cells": [
  {
   "cell_type": "code",
   "execution_count": 4,
   "metadata": {
    "collapsed": true,
    "pycharm": {
     "is_executing": false
    }
   },
   "outputs": [],
   "source": [
    "##################################################\n",
    "#We are going to find the greatest eigenvalue magnitude of a\n",
    "#matrix like A; in order to do that we will implement the\n",
    "#poewr-method algorithm.\n",
    "##################################################\n",
    "#the main procedure of power-method is like this:\n",
    "#we will produce a random vector like b_k \n",
    "# then we will set b_k1 vector which b_k1 = (A.(b_k))\n",
    "#then we will reset the b_k vector and set it to ((b_k1)/max(absolute(b_k1)))\n",
    "#and save the maximum value of absolute of b_k1 as max_eigen_prev\n",
    "#we will repeat this process\n",
    "#Algorithm will end when (max(absolute(b_k1)) - max_eigen_prev < accuracy rating or when it \n",
    "# is repeated for given num_simulation times\n",
    "#and in this state the greatest eigenvalue magnitude is equal to max(absolute(b_k1))"
   ]
  },
  {
   "cell_type": "code",
   "execution_count": 39,
   "outputs": [],
   "source": [
    "import numpy as np\n",
    "def power_iteration(A, num_simulations, accuracy):\n",
    "    # Ideally choose a random vector\n",
    "    # to decrease the chance that our vector\n",
    "    # is orthogonal to the eigen vector\n",
    "    b_k = np.random.rand(A.shape[1])\n",
    "    \n",
    "    # previous value of the greatest eigenvalue  \n",
    "    max_eigen_next = np.max(np.absolute(b_k))\n",
    "    for _ in range(num_simulations):\n",
    "        # calculate the matrix-by-vector product Ab\n",
    "        b_k1 = np.dot(A, b_k)\n",
    "        # re normalize the vector\n",
    "        b_k = b_k1 / np.max(np.absolute(b_k1))\n",
    "        \n",
    "        #Keep the previous maximum magnitude of b_k\n",
    "        max_eigen_prev = max_eigen_next\n",
    "        \n",
    "        #keep the current maximum magnitude of b_k1\n",
    "        max_eigen_next = np.max(np.absolute(b_k1))\n",
    "        \n",
    "        #print(max_eigen_next)\n",
    "        \n",
    "        if np.absolute(max_eigen_next - max_eigen_prev) < accuracy :\n",
    "            return np.max(np.absolute(b_k1))            "
   ],
   "metadata": {
    "collapsed": false,
    "pycharm": {
     "name": "#%%\n",
     "is_executing": false
    }
   }
  },
  {
   "cell_type": "code",
   "execution_count": 41,
   "outputs": [
    {
     "data": {
      "text/plain": "28.2566310050856"
     },
     "metadata": {},
     "output_type": "execute_result",
     "execution_count": 41
    }
   ],
   "source": [
    "M = np.random.randint(1,100)\n",
    "Matrix = np.random.rand(M,M)\n",
    "Accuracy = 0.0000000001\n",
    "Simulation_times = np.random.randint(100,100000)\n",
    "\n",
    "power_iteration(Matrix,Simulation_times, Accuracy)\n"
   ],
   "metadata": {
    "collapsed": false,
    "pycharm": {
     "name": "#%%\n",
     "is_executing": false
    }
   }
  },
  {
   "cell_type": "code",
   "execution_count": null,
   "outputs": [],
   "source": [
    "\n"
   ],
   "metadata": {
    "collapsed": false,
    "pycharm": {
     "name": "#%%\n"
    }
   }
  }
 ],
 "metadata": {
  "kernelspec": {
   "display_name": "Python 3",
   "language": "python",
   "name": "python3"
  },
  "language_info": {
   "codemirror_mode": {
    "name": "ipython",
    "version": 2
   },
   "file_extension": ".py",
   "mimetype": "text/x-python",
   "name": "python",
   "nbconvert_exporter": "python",
   "pygments_lexer": "ipython2",
   "version": "2.7.6"
  },
  "pycharm": {
   "stem_cell": {
    "cell_type": "raw",
    "source": [],
    "metadata": {
     "collapsed": false
    }
   }
  }
 },
 "nbformat": 4,
 "nbformat_minor": 0
}